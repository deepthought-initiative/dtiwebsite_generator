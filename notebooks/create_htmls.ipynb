{
    "cells": [
        {
            "attachments": {},
            "cell_type": "markdown",
            "metadata": {},
            "source": [
                "### This notebook consist of code for creating the html files for the website each time data is updated."
            ]
        },
        {
            "cell_type": "markdown",
            "metadata": {},
            "source": [
                "## Set-up"
            ]
        },
        {
            "cell_type": "code",
            "execution_count": 476,
            "metadata": {},
            "outputs": [],
            "source": [
                "import json\n",
                "from pathlib import Path\n",
                "import numpy as np\n",
                "import shutil\n",
                "import pandas as pd\n",
                "from jinja2 import Environment, FileSystemLoader\n",
                "from datetime import datetime, date"
            ]
        },
        {
            "cell_type": "markdown",
            "metadata": {},
            "source": [
                "Defining Constants"
            ]
        },
        {
            "cell_type": "code",
            "execution_count": 477,
            "metadata": {},
            "outputs": [],
            "source": [
                "# Defining Paths\n",
                "GROUP_DATA_DIR = Path(\"../../group-data\")\n",
                "TEMPLATE_DIR_PATH = GROUP_DATA_DIR.parent / \"dtiwebsite_generator\" / \"templates\"\n",
                "WEBSITE_DATA_PATH = GROUP_DATA_DIR / \"website_data/\"\n",
                "HOSTING_PATH = GROUP_DATA_DIR.parent / \"deepthought-initiative.github.io\"\n",
                "ARTICLE_DIR_PATH = Path(\"../../research_news/articles\")\n",
                "ARTICLE_IMAGE_PATH = Path(\"../../research_news/images\")\n",
                "ARTICLE_IMAGE_DESTINATION_DIR = HOSTING_PATH / \"website_files\" / \"images\" / \"article_content\"\n",
                "MEMBERS_DIR = GROUP_DATA_DIR / \"members\"\n",
                "SUB_RESEARCH_PATH = HOSTING_PATH / \"sub_research\"\n",
                "KERZENDORF_GROUP_DATA = Path(\"../../kerzendorf_lab_group_data\")\n",
                "\n",
                "INSTITUTION_FILTER = \"Michigan State University\"\n",
                "GROUP_FILTER = [\"DTI\", \"TARDIS\", \"ICER\", \"kerzendorf\"]\n",
                "INDIVIDUAL_MEMBER_SECTION_MAP = {\n",
                "    \"education\": \"Education\",\n",
                "    \"experiences\": \"Experience\",\n",
                "    \"projects\": \"Projects\",\n",
                "    \"awards\": \"Awards & Recognition\",\n",
                "    \"outreach\": \"Outreach Programs\",\n",
                "}"
            ]
        },
        {
            "cell_type": "markdown",
            "metadata": {},
            "source": [
                "Setting up jinja environment"
            ]
        },
        {
            "cell_type": "code",
            "execution_count": 478,
            "metadata": {},
            "outputs": [],
            "source": [
                "# Function to create proper HTML file names by replacing spaces with underscores\n",
                "def page_link(a):\n",
                "    \"\"\"Return the HTML file name after replacing blank spaces(\" \") with underscores(\"-\")\"\"\"\n",
                "    return a.replace(\" \", \"_\") if \" \" in a else a\n",
                "\n",
                "environment = Environment(\n",
                "    loader=FileSystemLoader(TEMPLATE_DIR_PATH),\n",
                "    extensions=[\"jinja2.ext.loopcontrols\", \"jinja2.ext.do\"],\n",
                ")\n",
                "environment.globals[\"page_link\"] = page_link"
            ]
        },
        {
            "cell_type": "code",
            "execution_count": 479,
            "metadata": {},
            "outputs": [],
            "source": [
                "def create_page(template, html, **kwargs):\n",
                "    \"\"\"\n",
                "    Create an HTML page using a Jinja2 template and save it to a specified path.\n",
                "\n",
                "    Parameters:\n",
                "    ----------\n",
                "    template : str\n",
                "        The filename of the Jinja2 template to be used.\n",
                "    html : str\n",
                "        The filename of the HTML file to be generated.\n",
                "    **kwargs : dict\n",
                "        Additional keyword arguments to be passed to the Jinja2 template for rendering.\n",
                "\n",
                "    Returns:\n",
                "    -------\n",
                "    None\n",
                "\n",
                "    \"\"\"\n",
                "    page_template = environment.get_template(template)\n",
                "    template_level = html.count(\"/\")\n",
                "    page_html_path = HOSTING_PATH / html\n",
                "    page_html_path.parent.mkdir(parents=True, exist_ok=True)\n",
                "    page_content = page_template.render(TEMPLATE_LEVEL=template_level, **kwargs)\n",
                "    with open(page_html_path, mode=\"w\", encoding=\"utf-8\") as page:\n",
                "        page.write(page_content)"
            ]
        },
        {
            "cell_type": "code",
            "execution_count": 480,
            "metadata": {},
            "outputs": [],
            "source": [
                "def loading_website_data(file_to_load):\n",
                "    \"\"\"\n",
                "    Load data from JSON files specified in a list of file names.\n",
                "\n",
                "    Parameters:\n",
                "    ----------\n",
                "    json_data_list : list of str\n",
                "        A list of file names (without extension) to load as JSON.\n",
                "\n",
                "    Returns:\n",
                "    -------\n",
                "    dict\n",
                "        A dictionary where keys are file names and values are the corresponding JSON data.\n",
                "\n",
                "    Raises:\n",
                "    ------\n",
                "    FileNotFoundError:\n",
                "        If a specified file does not exist.\n",
                "    json.JSONDecodeError:\n",
                "        If there's an issue decoding the JSON content from a file.\n",
                "\n",
                "    \"\"\"\n",
                "    loaded_data = {}\n",
                "    file_matches = WEBSITE_DATA_PATH/ f\"{file_to_load}.json\"\n",
                "    if file_matches:\n",
                "        try:\n",
                "            with open(file_matches, \"r\") as json_file:\n",
                "                loaded_data = json.load(json_file)\n",
                "        except json.JSONDecodeError:\n",
                "            print(f\"Error decoding JSON in '{file_matches}'.\")\n",
                "    else:\n",
                "        print(f\"File '{file_to_load}.json' not found.\")\n",
                "\n",
                "    return loaded_data"
            ]
        },
        {
            "cell_type": "code",
            "execution_count": 481,
            "metadata": {},
            "outputs": [],
            "source": [
                "def read_member_data_jsons(file_to_read):\n",
                "    member_data_list = []\n",
                "    member_data_df = pd.DataFrame([])\n",
                "    for single_info_file_path in MEMBERS_DIR.glob(\"*/info.json\"):\n",
                "        with open(single_info_file_path, \"r\") as f_info:\n",
                "            member_data = json.load(f_info)\n",
                "        member_unique_id = member_data[\"id\"]\n",
                "        file_to_read_path = single_info_file_path.parent / \"jsons\" / file_to_read\n",
                "\n",
                "        if file_to_read_path.exists():\n",
                "            with file_to_read_path.open(\"r\") as f_data:\n",
                "                member_other_data = json.load(f_data)\n",
                "            for entry in member_other_data:\n",
                "                entry[\"id\"] = member_unique_id\n",
                "            member_data_list.append(\n",
                "                pd.DataFrame(member_other_data)\n",
                "            )\n",
                "        else:\n",
                "            data_path_in_kl = KERZENDORF_GROUP_DATA / \"members\" / member_unique_id / \"jsons\" / file_to_read\n",
                "            if data_path_in_kl.exists():\n",
                "                with data_path_in_kl.open(\"r\") as data_file:\n",
                "                    member_other_data_kl = json.load(data_file)\n",
                "                for entry in member_other_data_kl:\n",
                "                    entry[\"id\"] = member_unique_id\n",
                "                member_data_list.append(\n",
                "                    pd.DataFrame(member_other_data_kl)\n",
                "                )\n",
                "\n",
                "    if member_data_list:\n",
                "        member_data_df = pd.concat(\n",
                "            member_data_list, ignore_index=True\n",
                "        )\n",
                "        member_data_df.set_index(\"id\", inplace=True)\n",
                "\n",
                "    return member_data_df"
            ]
        },
        {
            "cell_type": "code",
            "execution_count": 482,
            "metadata": {},
            "outputs": [],
            "source": [
                "def set_new_image_path(source_dir, old_image_path):\n",
                "    article_image_path = source_dir.parent / \"media\" / \"images\"\n",
                "    image_source = article_image_path / old_image_path.name\n",
                "    image_destination = ARTICLE_IMAGE_DESTINATION_DIR / old_image_path.name\n",
                "    website_files_index = image_destination.parts.index(\"website_files\")\n",
                "    new_image_path = Path(*image_destination.parts[website_files_index:])\n",
                "    shutil.copy2(image_source, image_destination)\n",
                "    return str(new_image_path)"
            ]
        },
        {
            "cell_type": "markdown",
            "metadata": {},
            "source": [
                "## Reading data"
            ]
        },
        {
            "cell_type": "code",
            "execution_count": 483,
            "metadata": {},
            "outputs": [],
            "source": [
                "# Reading website data\n",
                "general = loading_website_data(\"general\")\n",
                "homepage = loading_website_data(\"homepage\")\n",
                "contact = loading_website_data(\"contact\")\n",
                "research = loading_website_data(\"research\")\n",
                "support = loading_website_data(\"support\")"
            ]
        },
        {
            "cell_type": "code",
            "execution_count": 484,
            "metadata": {},
            "outputs": [],
            "source": [
                "# Reading all articles\n",
                "article_content_list = []\n",
                "today = date.today()\n",
                "for content_file_name in ARTICLE_DIR_PATH.rglob('info.json'):\n",
                "    with open(content_file_name, \"r\") as fcontent:\n",
                "        article_content = json.load(fcontent)\n",
                "    today_datetime = datetime.combine(today, datetime.min.time())\n",
                "    article_date = datetime.strptime(article_content[\"date\"], \"%m-%d-%Y\")\n",
                "    if \"dti\" in article_content[\"platforms\"] and article_date <= today_datetime:\n",
                "        image_path = Path(article_content[\"cover_image\"])\n",
                "        article_content[\"cover_image\"] = set_new_image_path(content_file_name, image_path)\n",
                "        for content_key, content_value in article_content[\"content\"].items():\n",
                "            if \"img\" in content_key:\n",
                "                new_content_value = set_new_image_path(content_file_name, Path(content_value))\n",
                "                article_content[\"content\"][content_key] = new_content_value\n",
                "        article_content_list.append(article_content)\n",
                "article_content_df = pd.DataFrame(article_content_list)\n",
                "\n",
                "article_content_df[\"date\"] = pd.to_datetime(\n",
                "    article_content_df[\"date\"], format=\"%m-%d-%Y\"\n",
                ")\n",
                "\n",
                "article_content_df[\"cover_image_height\"] = (\n",
                "    article_content_df[\"cover_image_height\"].fillna(\"330px\").replace(\"\", \"330px\")\n",
                ")\n",
                "article_content_df[\"cover_image_width\"] = (\n",
                "    article_content_df[\"cover_image_width\"].fillna(\"520px\").replace(\"\", \"520px\")\n",
                ")\n",
                "\n",
                "article_content_df['image_name'] = article_content_df['cover_image'].apply(lambda x: Path(x).name)"
            ]
        },
        {
            "cell_type": "markdown",
            "metadata": {},
            "source": [
                "Categorizing news and research articles"
            ]
        },
        {
            "cell_type": "code",
            "execution_count": 485,
            "metadata": {},
            "outputs": [],
            "source": [
                "news_content_df = article_content_df[\n",
                "    (article_content_df[\"category\"] == \"News\")\n",
                "    | (\n",
                "        article_content_df[\"tags\"].apply(\n",
                "            lambda x: \"news\" in x if isinstance(x, list) else False\n",
                "        )\n",
                "    )\n",
                "].sort_values(by=[\"date\"], ascending=[False])\n",
                "\n",
                "research_content_df = article_content_df[\n",
                "    article_content_df[\"category\"] != \"News\"\n",
                "].sort_values(by=[\"category\", \"date\"], ascending=[True, False])"
            ]
        },
        {
            "cell_type": "markdown",
            "metadata": {},
            "source": [
                "Reading personal member data from info.json"
            ]
        },
        {
            "cell_type": "code",
            "execution_count": 486,
            "metadata": {},
            "outputs": [],
            "source": [
                "info_json_list = []\n",
                "for single_info_file_path in MEMBERS_DIR.glob(\"*/info.json\"):\n",
                "    with open(single_info_file_path, \"r\") as f_info:\n",
                "        member_data = json.load(f_info)\n",
                "    if len(member_data.keys()) == 1:\n",
                "        info_json_path = (\n",
                "            KERZENDORF_GROUP_DATA / \"members\" / member_data[\"id\"] / \"info.json\"\n",
                "        )\n",
                "        member_images_dir = HOSTING_PATH / \"members\" / member_data[\"id\"] / \"media\"\n",
                "        with open(info_json_path, \"r\") as f_info_kl:\n",
                "            member_data_from_kl = json.load(f_info_kl)\n",
                "        member_images_dir_source = (\n",
                "            KERZENDORF_GROUP_DATA / \"members\" / member_data[\"id\"] / \"media\"\n",
                "        )\n",
                "\n",
                "        shutil.copytree(member_images_dir_source, member_images_dir, dirs_exist_ok=True)\n",
                "        info_json_list.append(member_data_from_kl)\n",
                "    else:\n",
                "        info_json_list.append(member_data)\n",
                "info_json_df = pd.DataFrame(info_json_list)\n",
                "info_json_df.set_index(\"id\", inplace=True)\n",
                "info_json_df[\"full_name\"] = info_json_df.apply(\n",
                "    lambda row: (\n",
                "        row[\"nick_name\"] + \" \" + row[\"last_name\"]\n",
                "        if pd.notna(row[\"nick_name\"])\n",
                "        else row[\"first_name\"] + \" \" + row[\"last_name\"]\n",
                "    ),\n",
                "    axis=1,\n",
                ")\n",
                "info_json_dict = info_json_df.to_dict(\"index\")"
            ]
        },
        {
            "cell_type": "markdown",
            "metadata": {},
            "source": [
                "Reading various json files"
            ]
        },
        {
            "cell_type": "code",
            "execution_count": 487,
            "metadata": {},
            "outputs": [],
            "source": [
                "exp_df = read_member_data_jsons(\"experiences.json\")[\n",
                "    [\n",
                "        \"role\",\n",
                "        \"start_date\",\n",
                "        \"end_date\",\n",
                "        \"institution\",\n",
                "        \"group\",\n",
                "    ]\n",
                "]\n",
                "edu_df = read_member_data_jsons(\"education.json\")[\n",
                "    [\"start_date\", \"end_date\", \"institution\", \"subject\", \"degree\"]\n",
                "]"
            ]
        },
        {
            "cell_type": "markdown",
            "metadata": {},
            "source": [
                "Reading social_links json"
            ]
        },
        {
            "cell_type": "code",
            "execution_count": 488,
            "metadata": {},
            "outputs": [],
            "source": [
                "social_link_list = []\n",
                "for single_member_file_path in MEMBERS_DIR.rglob(\"social_links.json\"):\n",
                "    with open(single_member_file_path, \"r\") as fname:\n",
                "        member_social_link = json.load(fname)\n",
                "    info_json_file_path = single_member_file_path.parent.parent / \"info.json\"\n",
                "    with open(info_json_file_path, \"r\") as file_info:\n",
                "        member_info_data = json.load(file_info)\n",
                "    mem_id = member_info_data[\"id\"]\n",
                "    member_social_link[\"id\"] = mem_id\n",
                "    social_link_list.append(member_social_link)\n",
                "social_links_df = pd.DataFrame(social_link_list)\n",
                "social_links_df.set_index(\"id\", inplace=True)\n",
                "social_links_df.fillna(\"\", inplace=True)"
            ]
        },
        {
            "cell_type": "markdown",
            "metadata": {},
            "source": [
                "## Homepage"
            ]
        },
        {
            "cell_type": "code",
            "execution_count": 489,
            "metadata": {},
            "outputs": [],
            "source": [
                "recent_content = article_content_df.sort_values(\n",
                "    by=[\"category\", \"date\"], ascending=[True, False]\n",
                ")\n",
                "# Get the first row for each category using groupby and head\n",
                "recent_content = recent_content.groupby(\"category\").head(1).copy()"
            ]
        },
        {
            "cell_type": "code",
            "execution_count": 490,
            "metadata": {},
            "outputs": [],
            "source": [
                "create_page(\n",
                "    \"homepage.html.j2\",\n",
                "    \"index.html\",\n",
                "    general=general,\n",
                "    homepage=homepage,\n",
                "    recent_content=recent_content.to_dict(orient=\"records\"),\n",
                ")"
            ]
        },
        {
            "cell_type": "markdown",
            "metadata": {},
            "source": [
                "## Support Page"
            ]
        },
        {
            "cell_type": "code",
            "execution_count": 491,
            "metadata": {},
            "outputs": [],
            "source": [
                "create_page(\"support.html.j2\", \"Support.html\", general=general, support=support)"
            ]
        },
        {
            "cell_type": "markdown",
            "metadata": {},
            "source": [
                "## Contact Page"
            ]
        },
        {
            "cell_type": "code",
            "execution_count": 492,
            "metadata": {},
            "outputs": [],
            "source": [
                "create_page(\"contact.html.j2\", \"Contact.html\", general=general, contact=contact)"
            ]
        },
        {
            "cell_type": "markdown",
            "metadata": {},
            "source": [
                "## News Page"
            ]
        },
        {
            "cell_type": "code",
            "execution_count": 493,
            "metadata": {},
            "outputs": [],
            "source": [
                "create_page(\n",
                "    \"news.html.j2\",\n",
                "    \"News.html\",\n",
                "    general=general,\n",
                "    content=news_content_df,\n",
                "    category=\"news\",\n",
                "    member_data=info_json_dict,\n",
                ")"
            ]
        },
        {
            "cell_type": "markdown",
            "metadata": {},
            "source": [
                "## Individual News Page"
            ]
        },
        {
            "cell_type": "code",
            "execution_count": 494,
            "metadata": {},
            "outputs": [],
            "source": [
                "for ind_news_keys, ind_news_values in news_content_df.iterrows():\n",
                "    folder_path = HOSTING_PATH / \"news\" / page_link(ind_news_values.article_id.lower())\n",
                "    create_page(\n",
                "        \"news_page_no_twitter.html.j2\",\n",
                "        f\"news/{page_link(ind_news_values.article_id.lower())}.html\",\n",
                "        general=general,\n",
                "        content=ind_news_values,\n",
                "        member_data=info_json_dict,\n",
                "        category=\"News\",\n",
                "    )"
            ]
        },
        {
            "cell_type": "markdown",
            "metadata": {},
            "source": []
        },
        {
            "cell_type": "markdown",
            "metadata": {},
            "source": [
                "## Research Page"
            ]
        },
        {
            "cell_type": "code",
            "execution_count": 495,
            "metadata": {},
            "outputs": [],
            "source": [
                "create_page(\n",
                "    \"computational_metascience.html.j2\",\n",
                "    \"computational_metascience.html\",\n",
                "    general=general,\n",
                "    content=research_content_df,\n",
                "    current_members=info_json_dict,\n",
                "    research=research,\n",
                ")"
            ]
        },
        {
            "cell_type": "markdown",
            "metadata": {},
            "source": [
                "## Sub-Research Page"
            ]
        },
        {
            "cell_type": "code",
            "execution_count": 496,
            "metadata": {},
            "outputs": [],
            "source": [
                "SUB_RESEARCH_PATH.mkdir(parents=True, exist_ok=True)\n",
                "\n",
                "for category in article_content_df.loc[\n",
                "    article_content_df.category != \"News\", \"category\"\n",
                "].unique():\n",
                "    create_page(\n",
                "        \"sub_research_frontpage.html.j2\",\n",
                "        f\"sub_research/{page_link(category.lower())}.html\",\n",
                "        general=general,\n",
                "        research=research,\n",
                "        content=research_content_df,\n",
                "        category=category,\n",
                "        current_members=info_json_dict,\n",
                "    )"
            ]
        },
        {
            "cell_type": "markdown",
            "metadata": {},
            "source": [
                "## Individual Research Page"
            ]
        },
        {
            "cell_type": "code",
            "execution_count": 497,
            "metadata": {},
            "outputs": [],
            "source": [
                "for ind_research_keys, ind_research_values in research_content_df.iterrows():\n",
                "    destination_research_path = f\"sub_research/{page_link(ind_research_values.category.lower())}/{page_link(ind_research_values.article_id.lower())}.html\"\n",
                "    if ind_research_values['category'] == \"Software\":\n",
                "        destination_research_path = f\"sub_research/{page_link(ind_research_values.article_id.lower())}.html\"\n",
                "\n",
                "    folder_path = SUB_RESEARCH_PATH / page_link(ind_research_values.category.lower())\n",
                "    folder_path.mkdir(parents=True, exist_ok=True)\n",
                "    create_page(\n",
                "        \"research_page_no_twitter.html.j2\",\n",
                "        destination_research_path,\n",
                "        general=general,\n",
                "        content=ind_research_values,\n",
                "        member_data=info_json_dict,\n",
                "        article_id=ind_research_values[\"article_id\"],\n",
                "    )"
            ]
        },
        {
            "cell_type": "markdown",
            "metadata": {},
            "source": [
                "## Current members Page"
            ]
        },
        {
            "cell_type": "code",
            "execution_count": 498,
            "metadata": {},
            "outputs": [],
            "source": [
                "exp_df['start_date'] = pd.to_datetime(exp_df['start_date'], errors='coerce')\n",
                "exp_df['end_date'] = pd.to_datetime(exp_df['end_date'], errors='coerce')\n",
                "filtered_exp_df = exp_df[exp_df[\"end_date\"].isna() | (exp_df[\"end_date\"] > datetime.now()) ]\n",
                "def most_recent_row(group):\n",
                "    return group[group[\"start_date\"] == group[\"start_date\"].max()]\n",
                "filtered_exp_df_most_recent = (\n",
                "    filtered_exp_df.groupby(\"id\").apply(most_recent_row).droplevel(0)\n",
                ")"
            ]
        },
        {
            "cell_type": "code",
            "execution_count": 499,
            "metadata": {},
            "outputs": [],
            "source": [
                "filtered_edu_df = edu_df[(edu_df[\"end_date\"].isna()) & (edu_df[\"institution\"] == INSTITUTION_FILTER)]"
            ]
        },
        {
            "cell_type": "code",
            "execution_count": 500,
            "metadata": {},
            "outputs": [
                {
                    "data": {
                        "text/html": [
                            "<div>\n",
                            "<style scoped>\n",
                            "    .dataframe tbody tr th:only-of-type {\n",
                            "        vertical-align: middle;\n",
                            "    }\n",
                            "\n",
                            "    .dataframe tbody tr th {\n",
                            "        vertical-align: top;\n",
                            "    }\n",
                            "\n",
                            "    .dataframe thead th {\n",
                            "        text-align: right;\n",
                            "    }\n",
                            "</style>\n",
                            "<table border=\"1\" class=\"dataframe\">\n",
                            "  <thead>\n",
                            "    <tr style=\"text-align: right;\">\n",
                            "      <th></th>\n",
                            "      <th>first_name</th>\n",
                            "      <th>last_name</th>\n",
                            "      <th>image_path</th>\n",
                            "      <th>cover_image_path</th>\n",
                            "      <th>introduction</th>\n",
                            "      <th>nick_name</th>\n",
                            "      <th>full_name</th>\n",
                            "    </tr>\n",
                            "    <tr>\n",
                            "      <th>id</th>\n",
                            "      <th></th>\n",
                            "      <th></th>\n",
                            "      <th></th>\n",
                            "      <th></th>\n",
                            "      <th></th>\n",
                            "      <th></th>\n",
                            "      <th></th>\n",
                            "    </tr>\n",
                            "  </thead>\n",
                            "  <tbody>\n",
                            "    <tr>\n",
                            "      <th>atharva_arya</th>\n",
                            "      <td>Atharva</td>\n",
                            "      <td>Arya</td>\n",
                            "      <td>media/images/atharva.jpg</td>\n",
                            "      <td>media/images/cover.jpg</td>\n",
                            "      <td>I joined TARDIS as a GSoC 2021 student and I h...</td>\n",
                            "      <td>NaN</td>\n",
                            "      <td>Atharva Arya</td>\n",
                            "    </tr>\n",
                            "    <tr>\n",
                            "      <th>vicente_amado</th>\n",
                            "      <td>Vicente</td>\n",
                            "      <td>Amado Olivo</td>\n",
                            "      <td>media/images/ESD_headshot.jpg</td>\n",
                            "      <td>media/images/cover.jpg</td>\n",
                            "      <td>I am a graduate student at Michigan State Univ...</td>\n",
                            "      <td>NaN</td>\n",
                            "      <td>Vicente  Amado Olivo</td>\n",
                            "    </tr>\n",
                            "    <tr>\n",
                            "      <th>bea_lu</th>\n",
                            "      <td>Bea</td>\n",
                            "      <td>Lu</td>\n",
                            "      <td>media/images/bea_lu.jpg</td>\n",
                            "      <td>media/images/cover.jpg</td>\n",
                            "      <td>Hi, my name is Bea and I am currently a studen...</td>\n",
                            "      <td>NaN</td>\n",
                            "      <td>Bea Lu</td>\n",
                            "    </tr>\n",
                            "    <tr>\n",
                            "      <th>wolfgang_kerzendorf</th>\n",
                            "      <td>Wolfgang</td>\n",
                            "      <td>Kerzendorf</td>\n",
                            "      <td>media/images/wolfgang.jpg</td>\n",
                            "      <td>media/images/cover.jpg</td>\n",
                            "      <td>I am an astrophysicist deeply intrigued by nuc...</td>\n",
                            "      <td>NaN</td>\n",
                            "      <td>Wolfgang Kerzendorf</td>\n",
                            "    </tr>\n",
                            "    <tr>\n",
                            "      <th>gracie_tvrdik</th>\n",
                            "      <td>Gracie</td>\n",
                            "      <td>Tvrdik</td>\n",
                            "      <td>media/images/gracie.jpg</td>\n",
                            "      <td>media/images/cover.jpg</td>\n",
                            "      <td>I am an undergraduate student at Bowling Green...</td>\n",
                            "      <td>NaN</td>\n",
                            "      <td>Gracie  Tvrdik</td>\n",
                            "    </tr>\n",
                            "    <tr>\n",
                            "      <th>abhinav_ohri</th>\n",
                            "      <td>Abhinav</td>\n",
                            "      <td>Ohri</td>\n",
                            "      <td>media/images/abhinav_ohri.jpg</td>\n",
                            "      <td>media/images/cover.jpg</td>\n",
                            "      <td>Hi there! This is Abhinav.</td>\n",
                            "      <td>NaN</td>\n",
                            "      <td>Abhinav Ohri</td>\n",
                            "    </tr>\n",
                            "    <tr>\n",
                            "      <th>johannes_buchner</th>\n",
                            "      <td>Johannes</td>\n",
                            "      <td>Buchner</td>\n",
                            "      <td>media/images/johannes.jpg</td>\n",
                            "      <td>media/images/cover.jpg</td>\n",
                            "      <td>Hello, I am a researcher in astrophysics, stat...</td>\n",
                            "      <td>NaN</td>\n",
                            "      <td>Johannes Buchner</td>\n",
                            "    </tr>\n",
                            "    <tr>\n",
                            "      <th>benjamin_mellon</th>\n",
                            "      <td>Benjamin</td>\n",
                            "      <td>Mellon</td>\n",
                            "      <td>media/images/ben.png</td>\n",
                            "      <td>media/images/cover.jpg</td>\n",
                            "      <td>I am an undergraduate research assistant in th...</td>\n",
                            "      <td>NaN</td>\n",
                            "      <td>Benjamin Mellon</td>\n",
                            "    </tr>\n",
                            "  </tbody>\n",
                            "</table>\n",
                            "</div>"
                        ],
                        "text/plain": [
                            "                    first_name     last_name                     image_path  \\\n",
                            "id                                                                            \n",
                            "atharva_arya           Atharva          Arya       media/images/atharva.jpg   \n",
                            "vicente_amado          Vicente   Amado Olivo  media/images/ESD_headshot.jpg   \n",
                            "bea_lu                     Bea            Lu        media/images/bea_lu.jpg   \n",
                            "wolfgang_kerzendorf   Wolfgang    Kerzendorf      media/images/wolfgang.jpg   \n",
                            "gracie_tvrdik           Gracie        Tvrdik        media/images/gracie.jpg   \n",
                            "abhinav_ohri           Abhinav          Ohri  media/images/abhinav_ohri.jpg   \n",
                            "johannes_buchner      Johannes       Buchner      media/images/johannes.jpg   \n",
                            "benjamin_mellon       Benjamin        Mellon           media/images/ben.png   \n",
                            "\n",
                            "                           cover_image_path  \\\n",
                            "id                                            \n",
                            "atharva_arya         media/images/cover.jpg   \n",
                            "vicente_amado        media/images/cover.jpg   \n",
                            "bea_lu               media/images/cover.jpg   \n",
                            "wolfgang_kerzendorf  media/images/cover.jpg   \n",
                            "gracie_tvrdik        media/images/cover.jpg   \n",
                            "abhinav_ohri         media/images/cover.jpg   \n",
                            "johannes_buchner     media/images/cover.jpg   \n",
                            "benjamin_mellon      media/images/cover.jpg   \n",
                            "\n",
                            "                                                          introduction  \\\n",
                            "id                                                                       \n",
                            "atharva_arya         I joined TARDIS as a GSoC 2021 student and I h...   \n",
                            "vicente_amado        I am a graduate student at Michigan State Univ...   \n",
                            "bea_lu               Hi, my name is Bea and I am currently a studen...   \n",
                            "wolfgang_kerzendorf  I am an astrophysicist deeply intrigued by nuc...   \n",
                            "gracie_tvrdik        I am an undergraduate student at Bowling Green...   \n",
                            "abhinav_ohri                                Hi there! This is Abhinav.   \n",
                            "johannes_buchner     Hello, I am a researcher in astrophysics, stat...   \n",
                            "benjamin_mellon      I am an undergraduate research assistant in th...   \n",
                            "\n",
                            "                    nick_name             full_name  \n",
                            "id                                                   \n",
                            "atharva_arya              NaN          Atharva Arya  \n",
                            "vicente_amado             NaN  Vicente  Amado Olivo  \n",
                            "bea_lu                    NaN                Bea Lu  \n",
                            "wolfgang_kerzendorf       NaN   Wolfgang Kerzendorf  \n",
                            "gracie_tvrdik             NaN        Gracie  Tvrdik  \n",
                            "abhinav_ohri              NaN          Abhinav Ohri  \n",
                            "johannes_buchner          NaN      Johannes Buchner  \n",
                            "benjamin_mellon           NaN       Benjamin Mellon  "
                        ]
                    },
                    "execution_count": 500,
                    "metadata": {},
                    "output_type": "execute_result"
                }
            ],
            "source": [
                "exp_ids = filtered_exp_df_most_recent.index.unique()\n",
                "edu_ids = filtered_edu_df.index.unique()\n",
                "common_ids = list(set(exp_ids).union(edu_ids))\n",
                "current_member_df = info_json_df.loc[common_ids]\n",
                "current_member_df"
            ]
        },
        {
            "cell_type": "code",
            "execution_count": 501,
            "metadata": {},
            "outputs": [],
            "source": [
                "for m_key, m_value in current_member_df.iterrows():\n",
                "    if m_key in filtered_edu_df.index:\n",
                "        if (\n",
                "            filtered_edu_df.loc[m_key, \"degree\"] == \"Bachelors\"\n",
                "            and filtered_edu_df.loc[m_key, \"institution\"] == INSTITUTION_FILTER\n",
                "        ):\n",
                "            current_academic_role = \"Undergraduate Student\"\n",
                "        if filtered_edu_df.loc[m_key, \"degree\"] in [\"PhD\", \"Masters\"]:\n",
                "            current_academic_role = \"Graduate Student\"\n",
                "    elif m_key in filtered_exp_df_most_recent.index:\n",
                "        current_academic_role = filtered_exp_df_most_recent.loc[m_key, \"role\"]\n",
                "    else:\n",
                "        current_academic_role = \"\"\n",
                "    current_member_df.loc[m_key,\"academic_role\"] = current_academic_role"
            ]
        },
        {
            "cell_type": "code",
            "execution_count": 502,
            "metadata": {},
            "outputs": [],
            "source": [
                "projects_df = read_member_data_jsons(\"projects.json\").sort_values(\n",
                "    by=[\"end_date\"], ascending=False\n",
                ")"
            ]
        },
        {
            "cell_type": "code",
            "execution_count": 503,
            "metadata": {},
            "outputs": [],
            "source": [
                "for mem_key, mem_value in current_member_df.iterrows():\n",
                "    if mem_key in projects_df.index:\n",
                "        mem_projects = projects_df.loc[mem_key]\n",
                "        if not mem_projects.empty:\n",
                "            if isinstance(mem_projects, pd.Series):\n",
                "                current_project_title = mem_projects[\"project_title\"]\n",
                "            else:\n",
                "                current_project_title = mem_projects.iloc[0][\"project_title\"]\n",
                "    else:\n",
                "        current_project_title = \"\"\n",
                "    current_member_df.loc[mem_key, \"current_project_title\"] = current_project_title"
            ]
        },
        {
            "cell_type": "code",
            "execution_count": 504,
            "metadata": {},
            "outputs": [],
            "source": [
                "create_page(\n",
                "    \"current_members.html.j2\",\n",
                "    \"current_members.html\",\n",
                "    general=general,\n",
                "    current_members=current_member_df.to_dict(\"index\"),\n",
                "    socials=social_links_df.to_dict(\"index\"),\n",
                ")"
            ]
        },
        {
            "cell_type": "markdown",
            "metadata": {},
            "source": [
                "## Alumni Members Page"
            ]
        },
        {
            "cell_type": "code",
            "execution_count": 505,
            "metadata": {},
            "outputs": [],
            "source": [
                "def most_recent_row_end_date(group):\n",
                "    return group[group[\"end_date\"] == group[\"end_date\"].max()]"
            ]
        },
        {
            "cell_type": "code",
            "execution_count": 506,
            "metadata": {},
            "outputs": [],
            "source": [
                "alumni_filtered_edu_df = edu_df[edu_df[\"end_date\"].notna()]\n",
                "req_edu_df = alumni_filtered_edu_df.loc[\n",
                "    alumni_filtered_edu_df[\"institution\"] == INSTITUTION_FILTER\n",
                "]\n",
                "req_edu_df_most_recent = req_edu_df.groupby(\"id\").apply(most_recent_row_end_date).droplevel(0)\n",
                "\n",
                "\n",
                "alumni_filtered_exp_df = exp_df[exp_df[\"end_date\"].notna()]\n",
                "req_exp_df = alumni_filtered_exp_df.loc[\n",
                "    (alumni_filtered_exp_df[\"institution\"] == INSTITUTION_FILTER)\n",
                "    | (alumni_filtered_exp_df[\"group\"].isin(GROUP_FILTER))\n",
                "]\n",
                "req_exp_df_most_recent = (\n",
                "    req_exp_df.groupby(\"id\").apply(most_recent_row_end_date).droplevel(0)\n",
                ")"
            ]
        },
        {
            "cell_type": "code",
            "execution_count": 507,
            "metadata": {},
            "outputs": [],
            "source": [
                "alumni_exp_ids = req_exp_df_most_recent.index.unique()\n",
                "alumni_edu_ids = req_edu_df_most_recent.index.unique()\n",
                "alumni_common_ids = list(set(alumni_exp_ids).union(alumni_edu_ids))\n",
                "alumni_member_df = info_json_df.loc[alumni_common_ids]"
            ]
        },
        {
            "cell_type": "code",
            "execution_count": 508,
            "metadata": {},
            "outputs": [],
            "source": [
                "# Get the indices of duplicates using set intersection\n",
                "duplicate_indices = set(current_member_df.index) & set(alumni_member_df.index)\n",
                "\n",
                "# Drop duplicates from alumni_members_df based on the indices\n",
                "alumni_member_df.drop(duplicate_indices, inplace=True)"
            ]
        },
        {
            "cell_type": "code",
            "execution_count": 509,
            "metadata": {},
            "outputs": [],
            "source": [
                "for m_key, m_value in alumni_member_df.iterrows():\n",
                "    if m_key in req_edu_df_most_recent.index:\n",
                "        if (\n",
                "            req_edu_df_most_recent.loc[m_key, \"degree\"] == \"Bachelors\"\n",
                "            and req_edu_df_most_recent.loc[m_key, \"institution\"] == INSTITUTION_FILTER\n",
                "        ):\n",
                "            current_academic_role = \"Undergraduate Student\"\n",
                "        if req_edu_df_most_recent.loc[m_key, \"degree\"] in [\"PhD\", \"Masters\"]:\n",
                "            current_academic_role = \"Graduate Student\"\n",
                "    elif m_key in req_exp_df_most_recent.index:\n",
                "        current_academic_role = req_exp_df_most_recent.loc[m_key, \"role\"]\n",
                "    else:\n",
                "        current_academic_role = \" \"\n",
                "    alumni_member_df.loc[m_key, \"academic_role\"] = str(current_academic_role)\n",
                "alumni_member_df['academic_role'] = alumni_member_df['academic_role'].fillna(\"\")"
            ]
        },
        {
            "cell_type": "code",
            "execution_count": 510,
            "metadata": {},
            "outputs": [],
            "source": [
                "create_page(\n",
                "    \"alumni_members.html.j2\",\n",
                "    \"alumni_members.html\",\n",
                "    general=general,\n",
                "    alumni_members=alumni_member_df.to_dict(\"index\"),\n",
                ")"
            ]
        },
        {
            "attachments": {},
            "cell_type": "markdown",
            "metadata": {},
            "source": [
                "## Individual People Page"
            ]
        },
        {
            "cell_type": "code",
            "execution_count": 511,
            "metadata": {},
            "outputs": [],
            "source": [
                "def group_df(df):\n",
                "    new_df = (df.groupby(\"id\")\n",
                "    .apply(lambda x: x.to_dict(orient=\"records\"))\n",
                "    .reset_index(name=\"info\")\n",
                "    .set_index(\"id\")\n",
                "    .to_dict(orient=\"index\"))\n",
                "    return new_df"
            ]
        },
        {
            "cell_type": "code",
            "execution_count": 512,
            "metadata": {},
            "outputs": [],
            "source": [
                "document_df = read_member_data_jsons(\"documents.json\")"
            ]
        },
        {
            "cell_type": "code",
            "execution_count": 513,
            "metadata": {},
            "outputs": [],
            "source": [
                "outreach_df = read_member_data_jsons(\"outreach.json\")\n",
                "if not outreach_df.empty:\n",
                "    outreach_grouped = group_df(outreach_df)"
            ]
        },
        {
            "cell_type": "code",
            "execution_count": 514,
            "metadata": {},
            "outputs": [],
            "source": [
                "awards_df = read_member_data_jsons(\"awards.json\")\n",
                "awards_grouped = group_df(awards_df)\n",
                "\n",
                "exp_grouped = group_df(exp_df)\n",
                "edu_grouped = group_df(edu_df)\n",
                "projects_grouped = group_df(projects_df)"
            ]
        },
        {
            "cell_type": "code",
            "execution_count": 515,
            "metadata": {},
            "outputs": [],
            "source": [
                "for member_id, member_data in info_json_df.iterrows():\n",
                "    if member_id in current_member_df.index:\n",
                "        info_json_df.at[member_id, \"academic_role\"] = current_member_df.loc[\n",
                "            member_id, \"academic_role\"\n",
                "        ]\n",
                "        info_json_df.at[member_id, \"current_project_title\"] = current_member_df.loc[\n",
                "            member_id, \"current_project_title\"\n",
                "        ]\n",
                "    elif member_id in alumni_member_df.index:\n",
                "        info_json_df.at[member_id, \"academic_role\"] = alumni_member_df.loc[\n",
                "            member_id, \"academic_role\"\n",
                "        ]\n",
                "alumni_member_df.replace(\"nan\", np.nan, inplace=True)\n",
                "alumni_member_df.fillna(\"\", inplace=True)\n",
                "current_member_df.fillna(\"\", inplace=True)"
            ]
        },
        {
            "cell_type": "code",
            "execution_count": 516,
            "metadata": {},
            "outputs": [],
            "source": [
                "for person_id, person_data in info_json_df.iterrows():\n",
                "    create_page(\n",
                "        \"individual_person.html.j2\",\n",
                "        f\"members/{person_id}/{person_id}.html\",\n",
                "        general=general,\n",
                "        member_id=person_id,\n",
                "        member_data=person_data,\n",
                "        socials=social_links_df.to_dict(\"index\"),\n",
                "        documents=document_df.to_dict(\"index\"),\n",
                "        education=edu_grouped,\n",
                "        experience=exp_grouped,\n",
                "        projects=projects_grouped,\n",
                "        awards=awards_grouped,\n",
                "        outreach=outreach_df,\n",
                "        section_headings=INDIVIDUAL_MEMBER_SECTION_MAP,\n",
                "        content=article_content_df.to_dict(\"index\"),\n",
                "    )"
            ]
        }
    ],
    "metadata": {
        "kernelspec": {
            "display_name": "Python 3",
            "language": "python",
            "name": "python3"
        },
        "language_info": {
            "codemirror_mode": {
                "name": "ipython",
                "version": 3
            },
            "file_extension": ".py",
            "mimetype": "text/x-python",
            "name": "python",
            "nbconvert_exporter": "python",
            "pygments_lexer": "ipython3",
            "version": "3.12.4"
        },
        "orig_nbformat": 4
    },
    "nbformat": 4,
    "nbformat_minor": 2
}
